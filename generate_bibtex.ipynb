{
  "nbformat": 4,
  "nbformat_minor": 0,
  "metadata": {
    "colab": {
      "provenance": []
    },
    "kernelspec": {
      "name": "python3",
      "display_name": "Python 3"
    },
    "language_info": {
      "name": "python"
    }
  },
  "cells": [
    {
      "cell_type": "markdown",
      "source": [
        "# Script for generating bibtex of a research article \n",
        "Authors: Kanchan Soni, ChatGPT\n",
        "\n",
        "\n",
        "\n"
      ],
      "metadata": {
        "id": "7gHOrCJ1MAv1"
      }
    },
    {
      "cell_type": "markdown",
      "source": [
        "* Before using this script, ensure that you have the pybtex and requests libraries installed in your local environment.\n",
        "\n",
        "* To use this script, provide the DOI of the research article for which you want to generate a BibTeX entry. Run the script, and it will generate a BibTeX entry in the format accepted by Physical Review D."
      ],
      "metadata": {
        "id": "3NzY_fcXMeLJ"
      }
    },
    {
      "cell_type": "code",
      "execution_count": 2,
      "metadata": {
        "colab": {
          "base_uri": "https://localhost:8080/"
        },
        "id": "JONAA5WDLtu2",
        "outputId": "401d8431-1049-4b7e-e434-03b318a52882"
      },
      "outputs": [
        {
          "output_type": "stream",
          "name": "stdout",
          "text": [
            "Looking in indexes: https://pypi.org/simple, https://us-python.pkg.dev/colab-wheels/public/simple/\n",
            "Requirement already satisfied: pybtex==0.22.2 in /usr/local/lib/python3.8/dist-packages (0.22.2)\n",
            "Requirement already satisfied: latexcodec>=1.0.4 in /usr/local/lib/python3.8/dist-packages (from pybtex==0.22.2) (2.0.1)\n",
            "Requirement already satisfied: six in /usr/local/lib/python3.8/dist-packages (from pybtex==0.22.2) (1.15.0)\n",
            "Requirement already satisfied: PyYAML>=3.01 in /usr/local/lib/python3.8/dist-packages (from pybtex==0.22.2) (6.0)\n",
            "Looking in indexes: https://pypi.org/simple, https://us-python.pkg.dev/colab-wheels/public/simple/\n",
            "Requirement already satisfied: requests==2.28.0 in /usr/local/lib/python3.8/dist-packages (2.28.0)\n",
            "Requirement already satisfied: charset-normalizer~=2.0.0 in /usr/local/lib/python3.8/dist-packages (from requests==2.28.0) (2.0.12)\n",
            "Requirement already satisfied: idna<4,>=2.5 in /usr/local/lib/python3.8/dist-packages (from requests==2.28.0) (2.10)\n",
            "Requirement already satisfied: urllib3<1.27,>=1.21.1 in /usr/local/lib/python3.8/dist-packages (from requests==2.28.0) (1.24.3)\n",
            "Requirement already satisfied: certifi>=2017.4.17 in /usr/local/lib/python3.8/dist-packages (from requests==2.28.0) (2022.12.7)\n"
          ]
        }
      ],
      "source": [
        "!pip install pybtex==0.22.2\n",
        "!pip install requests==2.28.0\n"
      ]
    },
    {
      "cell_type": "code",
      "source": [
        "from pybtex.database import BibliographyData, Entry\n",
        "from pybtex.database.input import bibtex\n",
        "import requests\n",
        "\n",
        "\n",
        "def gen_bibtex(input_doi):\n",
        "  # construct the CrossRef API URL to retrieve metadata for the article\n",
        "  crossref_api_url = f'https://api.crossref.org/works/{input_doi}'\n",
        "\n",
        "  # send a GET request to the CrossRef API\n",
        "  response = requests.get(crossref_api_url)\n",
        "\n",
        "\n",
        "  # extract the BibTeX from the CrossRef metadata\n",
        "  if response.status_code == 200:\n",
        "      data = response.json()['message']\n",
        "      fields = {\n",
        "          'title': data['title'][0],\n",
        "          'author': ' and '.join([f\"{a['given']} {a['family']}\" for a in data['author']]),\n",
        "          'journal': data['container-title'][0],\n",
        "          'volume': data['volume'],\n",
        "          'number': data['issue'],\n",
        "          'year': str(data.get('published-print', {}).get('date-parts', [[None]*3])[0][0] or data.get('published-online', {}).get('date-parts', [[None]*3])[0][0] or ''),\n",
        "          'month': str(data.get('published-print', {}).get('date-parts', [[None]*3])[0][1] or data.get('published-online', {}).get('date-parts', [[None]*3])[0][1] or ''),\n",
        "          'publisher': data['publisher'],\n",
        "          'doi': doi,\n",
        "          'url': data['URL']\n",
        "      }\n",
        "      if 'page' in data:\n",
        "          fields['pages'] = data['page']\n",
        "      entry = Entry('article', fields=fields)\n",
        "      bib_data = BibliographyData(entries={doi: entry})\n",
        "      bibtex = bib_data.to_string('bibtex')\n",
        "      print(bibtex.encode('utf-8').decode('utf-8'))\n",
        "  else:\n",
        "      print(f\"Error: HTTP status code {response.status_code}\")\n",
        "      "
      ],
      "metadata": {
        "id": "hdTO4c-uMAjX"
      },
      "execution_count": 3,
      "outputs": []
    },
    {
      "cell_type": "code",
      "source": [
        "# enter the DOI of the research article\n",
        "\n",
        "doi = \"10.1103/PhysRevD.95.042001\""
      ],
      "metadata": {
        "id": "5hC2wx2kL_9p"
      },
      "execution_count": 4,
      "outputs": []
    },
    {
      "cell_type": "code",
      "source": [
        "# Generate the bibtex in the PRD format \n",
        "gen_bibtex(doi)"
      ],
      "metadata": {
        "colab": {
          "base_uri": "https://localhost:8080/"
        },
        "id": "rKbYhDObNWvC",
        "outputId": "a99caa3e-d6f1-4b66-89c4-af1d96d1b376"
      },
      "execution_count": 5,
      "outputs": [
        {
          "output_type": "stream",
          "name": "stdout",
          "text": [
            "@article{10.1103/PhysRevD.95.042001,\n",
            "    title = \"Analysis framework for the prompt discovery of compact binary mergers in gravitational-wave data\",\n",
            "    author = \"Cody Messick and Kent Blackburn and Patrick Brady and Patrick Brockill and Kipp Cannon and Romain Cariou and Sarah Caudill and Sydney J. Chamberlin and Jolien D. E. Creighton and Ryan Everett and Chad Hanna and Drew Keppel and Ryan N. Lang and Tjonnie G. F. Li and Duncan Meacher and Alex Nielsen and Chris Pankow and Stephen Privitera and Hong Qi and Surabhi Sachdev and Laleh Sadeghian and Leo Singer and E. Gareth Thomas and Leslie Wade and Madeline Wade and Alan Weinstein and Karsten Wiesner\",\n",
            "    journal = \"Physical Review D\",\n",
            "    volume = \"95\",\n",
            "    number = \"4\",\n",
            "    year = \"2017\",\n",
            "    month = \"2\",\n",
            "    publisher = \"American Physical Society (APS)\",\n",
            "    doi = \"10.1103/PhysRevD.95.042001\",\n",
            "    url = \"http://dx.doi.org/10.1103/physrevd.95.042001\"\n",
            "}\n",
            "\n"
          ]
        }
      ]
    },
    {
      "cell_type": "code",
      "source": [],
      "metadata": {
        "id": "K4Yz3qaRNaGO"
      },
      "execution_count": null,
      "outputs": []
    }
  ]
}